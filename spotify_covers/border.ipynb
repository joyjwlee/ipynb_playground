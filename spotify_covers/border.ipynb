{
 "cells": [
  {
   "cell_type": "code",
   "execution_count": 1,
   "metadata": {},
   "outputs": [],
   "source": [
    "from PIL import Image, ImageDraw\n",
    "import numpy as np\n",
    "import os"
   ]
  },
  {
   "cell_type": "code",
   "execution_count": 2,
   "metadata": {},
   "outputs": [],
   "source": [
    "INPUT_PATH = \"./input\"\n",
    "OUTPUT_PATH = \"./output\"\n",
    "if not os.path.exists(OUTPUT_PATH):\n",
    "    os.makedirs(OUTPUT_PATH)"
   ]
  },
  {
   "cell_type": "code",
   "execution_count": 3,
   "metadata": {},
   "outputs": [],
   "source": [
    "def add_border_with_golden_ratio(image_name):\n",
    "    image_path = f\"{INPUT_PATH}/{image_name}.jpg\"\n",
    "    output_path = f\"{OUTPUT_PATH}/{image_name}_sq.jpg\"\n",
    "    assert os.path.exists(image_path), f\"Image path {image_path} does not exist\"\n",
    "\n",
    "    # Open the image\n",
    "    img = Image.open(image_path)\n",
    "    img_width, img_height = img.size\n",
    "    assert img_width == img_height, \"Image width and height must be equal\"\n",
    "\n",
    "    # Calculate the border size based on the golden ratio\n",
    "    golden_ratio = (1 + 5**0.5) / 2\n",
    "    # border_width = int(min(img_width, img_height) * 0.1)  # 10% of the smaller dimension\n",
    "    # border_size = int(border_width * golden_ratio)\n",
    "    border_size = int(img_width * (golden_ratio - 1) / 2)\n",
    "\n",
    "    # # Get the average color of the image\n",
    "    # img_array = np.array(img)\n",
    "    # avg_color = np.mean(img_array, axis=(0, 1))  # Compute the average color (R, G, B)\n",
    "    # avg_color = tuple(map(int, avg_color))  # Convert to integer values\n",
    "\n",
    "    # Handle different shapes\n",
    "    img_array = np.array(img)\n",
    "    if len(img_array.shape) == 2:  # Grayscale image\n",
    "        avg_color = int(np.mean(img_array))  # Single value\n",
    "        avg_color = (avg_color, avg_color, avg_color)\n",
    "    elif len(img_array.shape) == 3:  # RGB or RGBA image\n",
    "        avg_color = np.mean(\n",
    "            img_array[:, :, :3], axis=(0, 1)\n",
    "        )  # Average over RGB channels\n",
    "        avg_color = tuple(map(int, avg_color))  # Convert to integer values\n",
    "    else:\n",
    "        raise ValueError(f\"Unexpected image shape: {img_array.shape}\")\n",
    "\n",
    "    # Create a new image with border size added\n",
    "    new_width = img_width + 2 * border_size\n",
    "    new_height = img_height + 2 * border_size\n",
    "    new_img = Image.new(\"RGB\", (new_width, new_height), color=avg_color)\n",
    "\n",
    "    # Paste the original image onto the new image, centered\n",
    "    new_img.paste(img, (border_size, border_size))\n",
    "\n",
    "    # Save the result\n",
    "    new_img.save(output_path)"
   ]
  },
  {
   "cell_type": "code",
   "execution_count": 4,
   "metadata": {},
   "outputs": [],
   "source": [
    "files = os.listdir(INPUT_PATH)\n",
    "filenames_no_ext = [os.path.splitext(file)[0] for file in files]\n",
    "for filename in filenames_no_ext:\n",
    "    add_border_with_golden_ratio(filename)"
   ]
  },
  {
   "cell_type": "code",
   "execution_count": null,
   "metadata": {},
   "outputs": [],
   "source": []
  }
 ],
 "metadata": {
  "kernelspec": {
   "display_name": "ipynbs",
   "language": "python",
   "name": "python3"
  },
  "language_info": {
   "codemirror_mode": {
    "name": "ipython",
    "version": 3
   },
   "file_extension": ".py",
   "mimetype": "text/x-python",
   "name": "python",
   "nbconvert_exporter": "python",
   "pygments_lexer": "ipython3",
   "version": "3.12.2"
  }
 },
 "nbformat": 4,
 "nbformat_minor": 2
}
